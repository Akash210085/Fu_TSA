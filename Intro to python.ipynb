{
 "cells": [
  {
   "cell_type": "markdown",
   "id": "e6c572a4",
   "metadata": {},
   "source": [
    "## Intro to Python"
   ]
  },
  {
   "cell_type": "code",
   "execution_count": 7,
   "id": "a60cd667",
   "metadata": {},
   "outputs": [
    {
     "name": "stdout",
     "output_type": "stream",
     "text": [
      "hi 10\n",
      "20$"
     ]
    }
   ],
   "source": [
    "a=\"hi\"\n",
    "print(a ,end = \" \")\n",
    "print(10)\n",
    "print(20,end=\"$\")"
   ]
  },
  {
   "cell_type": "code",
   "execution_count": 12,
   "id": "0500dbeb",
   "metadata": {},
   "outputs": [
    {
     "name": "stdout",
     "output_type": "stream",
     "text": [
      "<class 'float'>\n",
      "<class 'complex'>\n"
     ]
    }
   ],
   "source": [
    "a=20.4\n",
    "print(type(a))\n",
    "b=2+3j\n",
    "print(type(b))"
   ]
  },
  {
   "cell_type": "code",
   "execution_count": 15,
   "id": "61eb7041",
   "metadata": {},
   "outputs": [
    {
     "name": "stdout",
     "output_type": "stream",
     "text": [
      "0.6\n",
      "0\n"
     ]
    }
   ],
   "source": [
    "a=12\n",
    "b=20\n",
    "print(a/b)\n",
    "print(a//b)"
   ]
  },
  {
   "cell_type": "code",
   "execution_count": 27,
   "id": "2d5193b9",
   "metadata": {},
   "outputs": [
    {
     "name": "stdout",
     "output_type": "stream",
     "text": [
      "this is a string\n",
      "<class 'str'>\n",
      "16\n",
      "this is a stringdef\n",
      "<class 'str'>\n"
     ]
    }
   ],
   "source": [
    "a=\"this is a string\"\n",
    "print(a)\n",
    "print(type(a))\n",
    "print(len(a))\n",
    "#strings are immutable\n",
    "#a[0]='a'\n",
    "b=\"def\"\n",
    "print(a+b)\n",
    "#pyhton does not have char\n",
    "print(type('a'))"
   ]
  },
  {
   "cell_type": "code",
   "execution_count": 36,
   "id": "95836c00",
   "metadata": {},
   "outputs": [
    {
     "name": "stdout",
     "output_type": "stream",
     "text": [
      "ABC\n",
      "abc\n",
      "Abc\n",
      "False\n"
     ]
    }
   ],
   "source": [
    "#few functions of string\n",
    "a=\"abc\"\n",
    "c=a.upper()\n",
    "print(c)\n",
    "print(c.lower())\n",
    "d=\"   Abc\"\n",
    "print(d.strip())\n",
    "print(d.isalpha())"
   ]
  },
  {
   "cell_type": "code",
   "execution_count": 46,
   "id": "0c355433",
   "metadata": {},
   "outputs": [
    {
     "name": "stdout",
     "output_type": "stream",
     "text": [
      "dj\n",
      "<class 'str'>\n",
      "34\n",
      "<class 'int'>\n"
     ]
    }
   ],
   "source": [
    "a=input()\n",
    "print(type(a))\n",
    "b=int(input())\n",
    "print(type(b))"
   ]
  },
  {
   "cell_type": "code",
   "execution_count": 70,
   "id": "208b3e25",
   "metadata": {},
   "outputs": [
    {
     "name": "stdout",
     "output_type": "stream",
     "text": [
      "a\n",
      "c\n",
      "abcdef\n",
      "abcabc\n"
     ]
    }
   ],
   "source": [
    "#reverse indexing\n",
    "a=\"abc\"\n",
    "b=\"def\"\n",
    "print(a[0])\n",
    "print(a[-1])\n",
    "print(a+b)\n",
    "#print(a-b)\n",
    "print(a*2)"
   ]
  },
  {
   "cell_type": "code",
   "execution_count": 58,
   "id": "1486e869",
   "metadata": {},
   "outputs": [
    {
     "name": "stdout",
     "output_type": "stream",
     "text": [
      "abcdefghijkl\n",
      "abcde\n",
      "cde\n",
      "cdefghij\n",
      "cegi\n",
      "jk\n",
      "jkl\n",
      "abcdefghijkl\n"
     ]
    }
   ],
   "source": [
    "#slicing\n",
    "#a[s:e]  => print s to e-1 index\n",
    "a=\"abcdefghijkl\"\n",
    "print(a[0:])\n",
    "print(a[:5])\n",
    "print(a[2:5])\n",
    "print(a[2:10:1])\n",
    "print(a[2:10:2])\n",
    "print(a[-3:-1])\n",
    "print(a[-3:])\n",
    "print(a[:])"
   ]
  },
  {
   "cell_type": "code",
   "execution_count": 63,
   "id": "440da63e",
   "metadata": {},
   "outputs": [
    {
     "name": "stdout",
     "output_type": "stream",
     "text": [
      "<class 'tuple'>\n",
      "6\n",
      "1\n",
      "(1, 2)\n"
     ]
    }
   ],
   "source": [
    "#tuple\n",
    "t=(1,2,3,4,\"dfhdhd\",7.876554689)\n",
    "print(type(t))\n",
    "print(len(t))\n",
    "print(t[0])\n",
    "print(t[0:2])\n",
    "#t[0]=3\n",
    "#tuple are also immutable\n"
   ]
  },
  {
   "cell_type": "code",
   "execution_count": 76,
   "id": "c26954af",
   "metadata": {},
   "outputs": [
    {
     "name": "stdout",
     "output_type": "stream",
     "text": [
      "(1, 2, 3, 'fh', 2)\n",
      "(1, 2, 3, 1, 2, 3, 1, 2, 3)\n",
      "True\n",
      "False\n"
     ]
    }
   ],
   "source": [
    "# operators on tuple\n",
    "t=(1,2,3)\n",
    "k=(\"fh\",2)\n",
    "print(t+k)\n",
    "#print(t-k)\n",
    "#print(k-t)\n",
    "#print(k*t)\n",
    "print(t*3)\n",
    "#print(t**2)\n",
    "#print(t%2)\n",
    "print(1 in t)\n",
    "print(6 in t)\n"
   ]
  },
  {
   "cell_type": "code",
   "execution_count": 104,
   "id": "2e7f7a11",
   "metadata": {},
   "outputs": [
    {
     "name": "stdout",
     "output_type": "stream",
     "text": [
      "<class 'list'>\n",
      "[1, 2, 3, 4, 5]\n",
      "[1, 1, 4, 27, 256, 3125, 46656, 823543, 16777216, 387420489]\n",
      "[23, 2.33, 'ffdd', True]\n",
      "23\n",
      "['ffdd', True]\n",
      "3 4 4 4\n",
      "['3', '4', '4', '4']\n",
      "3 4  4\n",
      "['3 4  4']\n"
     ]
    },
    {
     "data": {
      "text/plain": [
       "['3 4  4']"
      ]
     },
     "execution_count": 104,
     "metadata": {},
     "output_type": "execute_result"
    }
   ],
   "source": [
    "#list\n",
    "l=[1,2,3,4,5,]\n",
    "print(type(l))\n",
    "print(l)\n",
    "l1=[i**i for i in range(10)]\n",
    "print(l1)\n",
    "l2=[23,2.33,\"ffdd\",True]\n",
    "print(l2)\n",
    "\n",
    "print(l2[0])\n",
    "print(l2[2:5])\n",
    "\n",
    "\n",
    "#take input n intigers \n",
    "a=input()\n",
    "a=a.strip()\n",
    "l=a.split()\n",
    "print(l)\n",
    "l2=input().strip().split(\",\")\n",
    "print(l2)\n",
    "l2\n"
   ]
  },
  {
   "cell_type": "code",
   "execution_count": 80,
   "id": "f5427d0d",
   "metadata": {},
   "outputs": [
    {
     "name": "stdout",
     "output_type": "stream",
     "text": [
      "0\n",
      "1\n",
      "2\n",
      "3\n",
      "4\n",
      "5\n",
      "6\n",
      "7\n",
      "8\n",
      "9\n"
     ]
    }
   ],
   "source": [
    "for i in range(10):\n",
    "    print(i)"
   ]
  },
  {
   "cell_type": "code",
   "execution_count": 108,
   "id": "fb4d4e70",
   "metadata": {},
   "outputs": [
    {
     "name": "stdout",
     "output_type": "stream",
     "text": [
      "65 7 \n",
      "[65, 7]\n",
      "<class 'list'>\n"
     ]
    }
   ],
   "source": [
    "# converting string list to int list\n",
    "l2=input().strip().split()\n",
    "for i in range(0,len(l2)):\n",
    "    l2[i]=int(l2[i])\n",
    "print(l2)\n",
    "print(type(l2))"
   ]
  },
  {
   "cell_type": "code",
   "execution_count": 183,
   "id": "fcde91f9",
   "metadata": {},
   "outputs": [
    {
     "name": "stdout",
     "output_type": "stream",
     "text": [
      "4 5 6 7 8 9 0\n",
      "[4, 5, 6, 7, 8, 9, 0]\n"
     ]
    }
   ],
   "source": [
    "l=[int(x) for x in input().strip().split()]\n",
    "print(l)"
   ]
  },
  {
   "cell_type": "code",
   "execution_count": 135,
   "id": "10c37342",
   "metadata": {},
   "outputs": [
    {
     "name": "stdout",
     "output_type": "stream",
     "text": [
      "[3, 5, 34, 'cdfvf', 34, 2]\n"
     ]
    },
    {
     "data": {
      "text/plain": [
       "[3, 5, 34, 'cdfvf', 34, 2, 2, 3, 4, 5]"
      ]
     },
     "execution_count": 135,
     "metadata": {},
     "output_type": "execute_result"
    }
   ],
   "source": [
    "# add element in the list\n",
    "l=[3,5,\"cdfvf\",34]\n",
    "l.append(2)\n",
    "l.insert(2,34)\n",
    "print(l)\n",
    "l1=[2,3,4,5]\n",
    "l.extend(l1)\n",
    "l\n",
    "\n"
   ]
  },
  {
   "cell_type": "code",
   "execution_count": 142,
   "id": "15edba94",
   "metadata": {},
   "outputs": [
    {
     "name": "stdout",
     "output_type": "stream",
     "text": [
      "[1, 2, 3, 4, 5, 6]\n",
      "[1, 2, 3, 4, 5]\n",
      "[1, 2, 4, 5]\n",
      "[2, 4, 5]\n",
      "[2, 5]\n"
     ]
    },
    {
     "data": {
      "text/plain": [
       "[2, 3, 4]"
      ]
     },
     "execution_count": 142,
     "metadata": {},
     "output_type": "execute_result"
    }
   ],
   "source": [
    "#delete elements\n",
    "l1=[1,2,3,4,5,6]\n",
    "print(l1)\n",
    "l1.pop()  # remove last element\n",
    "print(l1)\n",
    "\n",
    "l1.pop(2)  # remove at index\n",
    "print(l1)\n",
    "\n",
    "l1.remove(1)  # remove element\n",
    "print(l1)\n",
    "\n",
    "del l1[1]  # delete at index or slice\n",
    "print(l1)\n",
    "\n",
    "l2=[2,3,4,5,6,7]\n",
    "del l2[3:6]\n",
    "l2"
   ]
  },
  {
   "cell_type": "code",
   "execution_count": 163,
   "id": "a58a8d3f",
   "metadata": {},
   "outputs": [
    {
     "name": "stdout",
     "output_type": "stream",
     "text": [
      "[1, 2, 3, 4, 5, 6]\n",
      "[1, 2, 3, 1, 2, 3, 1, 2, 3]\n",
      "[1, 1, 1, 2, 2, 2, 3, 3, 3]\n",
      "3\n",
      "6\n",
      "[3, 3, 3, 2, 2, 2, 1, 1, 1]\n",
      "False\n",
      "True\n",
      "3\n"
     ]
    }
   ],
   "source": [
    "l1=[1,2,3]\n",
    "l2=[4,5,6]\n",
    "print(l1+l2)\n",
    "print(l1*3)\n",
    "# sorting of list\n",
    "l1=l1*3\n",
    "l1.sort()\n",
    "print(l1)\n",
    "print(l1.count(1))  #No of elements\n",
    "print(l1.index(3)) #index of element\n",
    "\n",
    "l1.reverse()\n",
    "print(l1)\n",
    "\n",
    "print(7 in l1) # return bool \n",
    "print(2 in l)\n",
    "\n",
    "\n",
    "print(max(l1)) # max element"
   ]
  },
  {
   "cell_type": "code",
   "execution_count": 182,
   "id": "4db7acb8",
   "metadata": {},
   "outputs": [
    {
     "data": {
      "text/plain": [
       "[-5, -1, 0, 2, 3, 4, 6, 6, 8, 9]"
      ]
     },
     "execution_count": 182,
     "metadata": {},
     "output_type": "execute_result"
    }
   ],
   "source": [
    "# Bubble sort\n",
    "l=[2,6,4,9,0,-1,-5,8,3,6]\n",
    "n=len(l)\n",
    "#for j in range(n-1,0):\n",
    "for j in range(n-1):\n",
    "    for i in range(0,n-1-j):\n",
    "        if(l[i]>l[i+1]):\n",
    "            t=l[i]\n",
    "            l[i]=l[i+1]\n",
    "            l[i+1]=t\n",
    "l        "
   ]
  },
  {
   "cell_type": "code",
   "execution_count": 190,
   "id": "7ff944e5",
   "metadata": {},
   "outputs": [
    {
     "name": "stdout",
     "output_type": "stream",
     "text": [
      "{2: 6, '34': 4, 'ddd': 4, 3: 8}\n",
      "2 : 6\n",
      "34 : 4\n",
      "ddd : 4\n",
      "3 : 8\n"
     ]
    }
   ],
   "source": [
    "#dictionary\n",
    "d={2:3,\"34\":4,\"ddd\":4}\n",
    "d[2]=6  # update the element if element is already present or create element if element is not present\n",
    "d[3]=8  # key=3 , value=8\n",
    "print(d)\n",
    "# key of dectionary should have to immutable\n",
    "# int,string,tuple ,float\n",
    "# d[0]=[2,3,4]\n",
    "#d[[2,3,4]]=1  Not valid because list is muutable\n",
    "\n",
    "for i in d:\n",
    "    print(i,end=\" : \")\n",
    "    print(d[i])"
   ]
  },
  {
   "cell_type": "code",
   "execution_count": 191,
   "id": "33d1c54c",
   "metadata": {},
   "outputs": [
    {
     "name": "stdout",
     "output_type": "stream",
     "text": [
      "{2: 10, 3: 30, 5: 50, 6: 60}\n"
     ]
    }
   ],
   "source": [
    "# delete \n",
    "d={2:10,3:30,4:40,5:50,6:60}\n",
    "del d[4]\n",
    "print(d)"
   ]
  },
  {
   "cell_type": "code",
   "execution_count": 197,
   "id": "c6ffc878",
   "metadata": {},
   "outputs": [
    {
     "name": "stdout",
     "output_type": "stream",
     "text": [
      "False\n",
      "3\n",
      "dict_keys([1, 2, 3])\n",
      "dict_values([10, 20, 30])\n",
      "True\n"
     ]
    }
   ],
   "source": [
    "d1={1:10,2:20,3:30}\n",
    "d2={}\n",
    "print(d1==d2) #compare\n",
    "print(len(d1)) \n",
    "\n",
    "print(d1.keys())  # return all key in list\n",
    "print(d1.values())  # return all values in list\n",
    "\n",
    "print(3 in d1)  # present or not present\n"
   ]
  }
 ],
 "metadata": {
  "kernelspec": {
   "display_name": "Python 3 (ipykernel)",
   "language": "python",
   "name": "python3"
  },
  "language_info": {
   "codemirror_mode": {
    "name": "ipython",
    "version": 3
   },
   "file_extension": ".py",
   "mimetype": "text/x-python",
   "name": "python",
   "nbconvert_exporter": "python",
   "pygments_lexer": "ipython3",
   "version": "3.10.9"
  }
 },
 "nbformat": 4,
 "nbformat_minor": 5
}
