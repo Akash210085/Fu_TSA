{
 "cells": [
  {
   "cell_type": "markdown",
   "id": "6989b73c",
   "metadata": {},
   "source": [
    "## Difference between Numpy and list\n",
    " list are not very compact. list can have element of different type. list are generally slow.\n",
    "\n",
    " Numpy arrays are fast. they have elements of same type"
   ]
  },
  {
   "cell_type": "code",
   "execution_count": 3,
   "id": "fc68960e",
   "metadata": {},
   "outputs": [
    {
     "data": {
      "text/plain": [
       "2.23606797749979"
      ]
     },
     "execution_count": 3,
     "metadata": {},
     "output_type": "execute_result"
    }
   ],
   "source": [
    "import math as m\n",
    "m.sqrt(5)"
   ]
  },
  {
   "cell_type": "code",
   "execution_count": 16,
   "id": "0f449102",
   "metadata": {},
   "outputs": [
    {
     "name": "stdout",
     "output_type": "stream",
     "text": [
      "<U3\n",
      "[0. 0. 0. 0. 0. 0. 0. 0. 0. 0.]\n",
      "<class 'numpy.ndarray'>\n",
      "float64\n",
      "<class 'numpy.ndarray'>\n",
      "int32\n",
      "[[[0. 0. 0.]\n",
      "  [0. 0. 0.]\n",
      "  [0. 0. 0.]]\n",
      "\n",
      " [[0. 0. 0.]\n",
      "  [0. 0. 0.]\n",
      "  [0. 0. 0.]]]\n"
     ]
    }
   ],
   "source": [
    "import numpy as np\n",
    "l=[\"23\",\"ds\",\"sdf\"]\n",
    "l=np.array(l)\n",
    "print(l.dtype)\n",
    "\n",
    "print(np.zeros(10))\n",
    "a=np.ones(10)\n",
    "print(type(a))\n",
    "print(a.dtype)\n",
    "\n",
    "b=np.zeros(5,int) \n",
    "print(type(b))\n",
    "print(b.dtype)\n",
    "\n",
    "print(np.zeros((2,3,3))) # to create 3d array pass tuple as input"
   ]
  },
  {
   "cell_type": "code",
   "execution_count": 24,
   "id": "7e66c92c",
   "metadata": {},
   "outputs": [
    {
     "name": "stdout",
     "output_type": "stream",
     "text": [
      "[1 2 3 4]\n",
      "[8 2 3 4]\n",
      "[3 4]\n",
      "(4,)\n"
     ]
    }
   ],
   "source": [
    "b=np.array([1,2,3,4])\n",
    "print(b)\n",
    "\n",
    "b[0]='8' # automatically convert to int\n",
    "print(b)\n",
    "\n",
    "# b[0]='a' error\n",
    "\n",
    "#slicing\n",
    "print(b[2:4])\n",
    "\n",
    "print(b.shape)"
   ]
  },
  {
   "cell_type": "code",
   "execution_count": 36,
   "id": "14a8fbdf",
   "metadata": {},
   "outputs": [
    {
     "name": "stdout",
     "output_type": "stream",
     "text": [
      "[1 2]\n",
      "[1 2 3]\n",
      "[1 4 4 7]\n",
      "[1 4]\n",
      "[[4 9 8]\n",
      " [7 5 9]]\n",
      "[[5 6]\n",
      " [9 8]]\n"
     ]
    }
   ],
   "source": [
    "a=[[1,2,3],[4,5,6],[4,9,8],[7,5,9]]  # 2d list\n",
    "a=np.array(a)\n",
    "print(a[0][0:2])\n",
    "print(a[0])  # eccess row\n",
    "print(a[:,0]) # eccess 0th column (valid only for numpy arrays) \n",
    "print(a[0:2,0]) # slicing in 0th column\n",
    "print(a[2:,:])  #printing two lower rows\n",
    "print(a[1:3,1:])\n",
    "\n",
    "# thus we can get any subarray"
   ]
  },
  {
   "cell_type": "code",
   "execution_count": 41,
   "id": "a41c33be",
   "metadata": {},
   "outputs": [
    {
     "name": "stdout",
     "output_type": "stream",
     "text": [
      "[0 1 2 3 4 5 6 7 8 9]\n",
      "[4 5 6 7 8]\n",
      "[1 4 7]\n"
     ]
    }
   ],
   "source": [
    "print(np.arange(10))\n",
    "print(np.arange(4,9))\n",
    "print(np.arange(1,10,3))"
   ]
  },
  {
   "cell_type": "code",
   "execution_count": 49,
   "id": "f1b2b710",
   "metadata": {},
   "outputs": [
    {
     "name": "stdout",
     "output_type": "stream",
     "text": [
      "[1, 2, 3, 4, 1, 2, 3, 4]\n",
      "[2 4 6 8]\n",
      "[3 4 5 6]\n",
      "[1, 2, 3, 4, 1, 2, 3, 4, 1, 2, 3, 4]\n",
      "[ 3  6  9 12]\n",
      "[0 0 0 0]\n"
     ]
    }
   ],
   "source": [
    "# operation on numpy array and how they are different from list\n",
    "\n",
    "l=[1,2,3,4]\n",
    "a=np.array([1,2,3,4])\n",
    "\n",
    "print(l+l) # append list by itself\n",
    "print(a+a) # each element of a is added to each element of a\n",
    "\n",
    "b=np.array([1,2,3])\n",
    " # print(a+b) => error\n",
    "\n",
    "#print(l+2) => error\n",
    "print(a+2) # add 2 to each element to a\n",
    "\n",
    "print(l*3) # append itself two times\n",
    "print(a*3) # multiply each element by 3\n",
    "\n",
    "# print(l-l)  error\n",
    "print(a-a)"
   ]
  },
  {
   "cell_type": "code",
   "execution_count": 56,
   "id": "d5c77376",
   "metadata": {},
   "outputs": [
    {
     "name": "stdout",
     "output_type": "stream",
     "text": [
      "3.0\n",
      "15\n",
      "5\n",
      "1\n"
     ]
    }
   ],
   "source": [
    "a=np.array([1,2,3,4,5])\n",
    "print(a.mean())\n",
    "print(a.sum())\n",
    "print(a.max())\n",
    "print(a.min())"
   ]
  },
  {
   "cell_type": "code",
   "execution_count": 61,
   "id": "8361a83b",
   "metadata": {},
   "outputs": [
    {
     "name": "stdout",
     "output_type": "stream",
     "text": [
      "3.4641016151377544\n"
     ]
    }
   ],
   "source": [
    "# numpy arrays are easy for some calculations\n",
    "# let N dimensional space, p1(point 1)=[1,2,3...n] and p2(point 2)=[1,2,3.....n]\n",
    "# we want to calculate squared distance between two points  ((x1-y1)^2+(x2-y2)^2+......)^0.5\n",
    "\n",
    "# 3D space\n",
    "a=np.array([1,2,3])\n",
    "b=np.array([3,4,5])\n",
    "\n",
    "c=(a-b)**2\n",
    "d=c.sum()\n",
    "distance = d**0.5\n",
    "print(distance)"
   ]
  },
  {
   "cell_type": "code",
   "execution_count": 69,
   "id": "e80642d8",
   "metadata": {},
   "outputs": [
    {
     "name": "stdout",
     "output_type": "stream",
     "text": [
      "2.4545454545454546\n",
      "124.72727272727273\n",
      "11.16813649304452\n"
     ]
    }
   ],
   "source": [
    "# variance calculate\n",
    "a=np.array([1,2,3,4,5,6,7,-1,-5,0,5])\n",
    "mean=a.mean()\n",
    "print(mean)\n",
    "b=a-mean\n",
    "#print(b)\n",
    "c=b**2\n",
    "#print(c)\n",
    "variance=c.sum()\n",
    "print(variance)\n",
    "sd=m.sqrt(variance)\n",
    "print(sd)"
   ]
  },
  {
   "cell_type": "code",
   "execution_count": 70,
   "id": "1a3e0123",
   "metadata": {},
   "outputs": [
    {
     "data": {
      "text/plain": [
       "32"
      ]
     },
     "execution_count": 70,
     "metadata": {},
     "output_type": "execute_result"
    }
   ],
   "source": [
    "# Dot product\n",
    "a=np.array([1,2,3,4])\n",
    "b=np.array([4,5,6,0])\n",
    "a.dot(b)\n"
   ]
  },
  {
   "cell_type": "code",
   "execution_count": 79,
   "id": "e450590e",
   "metadata": {},
   "outputs": [
    {
     "name": "stdout",
     "output_type": "stream",
     "text": [
      "12\n"
     ]
    },
    {
     "data": {
      "text/plain": [
       "array([6, 6])"
      ]
     },
     "execution_count": 79,
     "metadata": {},
     "output_type": "execute_result"
    }
   ],
   "source": [
    "a=np.array([[1,2,3],[1,2,3]])\n",
    "print(a.sum())\n",
    "np.sum(a,axis=1)"
   ]
  },
  {
   "cell_type": "code",
   "execution_count": 75,
   "id": "8690195e",
   "metadata": {},
   "outputs": [
    {
     "data": {
      "text/plain": [
       "matrix([[14, 19, 24],\n",
       "        [14, 19, 24],\n",
       "        [ 5,  7,  9]])"
      ]
     },
     "execution_count": 75,
     "metadata": {},
     "output_type": "execute_result"
    }
   ],
   "source": [
    "# Numpy Matrices\n",
    "a=np.mat('2,3,4;2,3,4;1,1,1')\n",
    "a*a # matrix product\n",
    "\n"
   ]
  }
 ],
 "metadata": {
  "kernelspec": {
   "display_name": "Python 3 (ipykernel)",
   "language": "python",
   "name": "python3"
  },
  "language_info": {
   "codemirror_mode": {
    "name": "ipython",
    "version": 3
   },
   "file_extension": ".py",
   "mimetype": "text/x-python",
   "name": "python",
   "nbconvert_exporter": "python",
   "pygments_lexer": "ipython3",
   "version": "3.10.9"
  }
 },
 "nbformat": 4,
 "nbformat_minor": 5
}
